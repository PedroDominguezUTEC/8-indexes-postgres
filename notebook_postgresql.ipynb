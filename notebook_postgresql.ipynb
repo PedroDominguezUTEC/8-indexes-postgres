{
 "cells": [
  {
   "cell_type": "markdown",
   "metadata": {},
   "source": [
    "# Laboratorio 8.2\n",
    "\n",
    "Integrantes\n",
    "- Pedro Domínguez\n",
    "- Eduardo Arróspide"
   ]
  },
  {
   "cell_type": "markdown",
   "metadata": {},
   "source": [
    "## Crear la conexion a la BD\n",
    "Se utilizaron los modulos: \"sqlalchemy\",  \"psycopg2\" y \"ipython-sql\""
   ]
  },
  {
   "cell_type": "code",
   "execution_count": 2,
   "metadata": {},
   "outputs": [],
   "source": [
    "import sqlalchemy as sa\n",
    "\n",
    "# Create the connection\n",
    "engine = sa.create_engine('postgresql://postgres:a@localhost:5432/dvdrentalcopy')\n",
    "\n",
    "#Load the SQL extension\n",
    "%load_ext sql\n",
    "%config SqlMagic.displaycon = False\n",
    "\n",
    "#Set up the connection:\n",
    "%sql $engine.url"
   ]
  },
  {
   "cell_type": "markdown",
   "metadata": {},
   "source": [
    "## P1"
   ]
  },
  {
   "cell_type": "code",
   "execution_count": 22,
   "metadata": {},
   "outputs": [
    {
     "name": "stdout",
     "output_type": "stream",
     "text": [
      "Done.\n",
      "Done.\n",
      "Done.\n",
      "Done.\n",
      "Done.\n",
      "100000 rows affected.\n",
      "100000 rows affected.\n",
      "Done.\n"
     ]
    },
    {
     "data": {
      "text/plain": [
       "[]"
      ]
     },
     "execution_count": 22,
     "metadata": {},
     "output_type": "execute_result"
    }
   ],
   "source": [
    "%%sql\n",
    "DROP SCHEMA IF EXISTS lab82 CASCADE;\n",
    "\n",
    "CREATE SCHEMA lab82;\n",
    "SET search_path = lab82;\n",
    "\n",
    "CREATE EXTENSION pg_trgm;\n",
    "\n",
    "CREATE TABLE p1 (\n",
    "    body text,\n",
    "    body_indexed text\n",
    ");\n",
    "\n",
    "INSERT INTO p1\n",
    "\tSELECT\n",
    "    \tmd5(random()::text)\n",
    "\tFROM (\n",
    "\t\tSELECT * FROM\n",
    "\t\t\tgenerate_series (1,100000) AS id\n",
    "\t\t) AS x;\n",
    "\n",
    "UPDATE p1 SET body_indexed = body;\n",
    "\n",
    "CREATE INDEX p1_search_idx ON p1 USING gin (body_indexed gin_trgm_ops);"
   ]
  },
  {
   "cell_type": "code",
   "execution_count": 23,
   "metadata": {},
   "outputs": [
    {
     "name": "stdout",
     "output_type": "stream",
     "text": [
      "6 rows affected.\n"
     ]
    },
    {
     "data": {
      "text/html": [
       "<table>\n",
       "    <tr>\n",
       "        <th>QUERY PLAN</th>\n",
       "    </tr>\n",
       "    <tr>\n",
       "        <td>Aggregate  (cost=3328.00..3328.01 rows=1 width=8) (actual time=38.404..38.405 rows=1 loops=1)</td>\n",
       "    </tr>\n",
       "    <tr>\n",
       "        <td>&nbsp;&nbsp;-&gt;  Seq Scan on p1  (cost=0.00..3318.00 rows=4000 width=0) (actual time=8.890..38.282 rows=752 loops=1)</td>\n",
       "    </tr>\n",
       "    <tr>\n",
       "        <td>&nbsp;&nbsp;&nbsp;&nbsp;&nbsp;&nbsp;&nbsp;&nbsp;Filter: (body ~~ &#x27;%abc%&#x27;::text)</td>\n",
       "    </tr>\n",
       "    <tr>\n",
       "        <td>&nbsp;&nbsp;&nbsp;&nbsp;&nbsp;&nbsp;&nbsp;&nbsp;Rows Removed by Filter: 99248</td>\n",
       "    </tr>\n",
       "    <tr>\n",
       "        <td>Planning Time: 10.751 ms</td>\n",
       "    </tr>\n",
       "    <tr>\n",
       "        <td>Execution Time: 47.599 ms</td>\n",
       "    </tr>\n",
       "</table>"
      ],
      "text/plain": [
       "[('Aggregate  (cost=3328.00..3328.01 rows=1 width=8) (actual time=38.404..38.405 rows=1 loops=1)',),\n",
       " ('  ->  Seq Scan on p1  (cost=0.00..3318.00 rows=4000 width=0) (actual time=8.890..38.282 rows=752 loops=1)',),\n",
       " (\"        Filter: (body ~~ '%abc%'::text)\",),\n",
       " ('        Rows Removed by Filter: 99248',),\n",
       " ('Planning Time: 10.751 ms',),\n",
       " ('Execution Time: 47.599 ms',)]"
      ]
     },
     "execution_count": 23,
     "metadata": {},
     "output_type": "execute_result"
    }
   ],
   "source": [
    "%%sql\n",
    "EXPLAIN ANALYZE\n",
    "SELECT COUNT(*) AS NO_INDEXED FROM p1 WHERE body LIKE '%abc%';"
   ]
  },
  {
   "cell_type": "code",
   "execution_count": 24,
   "metadata": {},
   "outputs": [
    {
     "name": "stdout",
     "output_type": "stream",
     "text": [
      "8 rows affected.\n"
     ]
    },
    {
     "data": {
      "text/html": [
       "<table>\n",
       "    <tr>\n",
       "        <th>QUERY PLAN</th>\n",
       "    </tr>\n",
       "    <tr>\n",
       "        <td>Aggregate  (cost=2195.37..2195.38 rows=1 width=8) (actual time=10.780..10.781 rows=1 loops=1)</td>\n",
       "    </tr>\n",
       "    <tr>\n",
       "        <td>&nbsp;&nbsp;-&gt;  Bitmap Heap Scan on p1  (cost=51.00..2185.37 rows=4000 width=0) (actual time=10.213..10.749 rows=752 loops=1)</td>\n",
       "    </tr>\n",
       "    <tr>\n",
       "        <td>&nbsp;&nbsp;&nbsp;&nbsp;&nbsp;&nbsp;&nbsp;&nbsp;Recheck Cond: (body_indexed ~~ &#x27;%abc%&#x27;::text)</td>\n",
       "    </tr>\n",
       "    <tr>\n",
       "        <td>&nbsp;&nbsp;&nbsp;&nbsp;&nbsp;&nbsp;&nbsp;&nbsp;Heap Blocks: exact=580</td>\n",
       "    </tr>\n",
       "    <tr>\n",
       "        <td>&nbsp;&nbsp;&nbsp;&nbsp;&nbsp;&nbsp;&nbsp;&nbsp;-&gt;  Bitmap Index Scan on p1_search_idx  (cost=0.00..50.00 rows=4000 width=0) (actual time=10.149..10.150 rows=752 loops=1)</td>\n",
       "    </tr>\n",
       "    <tr>\n",
       "        <td>&nbsp;&nbsp;&nbsp;&nbsp;&nbsp;&nbsp;&nbsp;&nbsp;&nbsp;&nbsp;&nbsp;&nbsp;&nbsp;&nbsp;Index Cond: (body_indexed ~~ &#x27;%abc%&#x27;::text)</td>\n",
       "    </tr>\n",
       "    <tr>\n",
       "        <td>Planning Time: 0.120 ms</td>\n",
       "    </tr>\n",
       "    <tr>\n",
       "        <td>Execution Time: 10.826 ms</td>\n",
       "    </tr>\n",
       "</table>"
      ],
      "text/plain": [
       "[('Aggregate  (cost=2195.37..2195.38 rows=1 width=8) (actual time=10.780..10.781 rows=1 loops=1)',),\n",
       " ('  ->  Bitmap Heap Scan on p1  (cost=51.00..2185.37 rows=4000 width=0) (actual time=10.213..10.749 rows=752 loops=1)',),\n",
       " (\"        Recheck Cond: (body_indexed ~~ '%abc%'::text)\",),\n",
       " ('        Heap Blocks: exact=580',),\n",
       " ('        ->  Bitmap Index Scan on p1_search_idx  (cost=0.00..50.00 rows=4000 width=0) (actual time=10.149..10.150 rows=752 loops=1)',),\n",
       " (\"              Index Cond: (body_indexed ~~ '%abc%'::text)\",),\n",
       " ('Planning Time: 0.120 ms',),\n",
       " ('Execution Time: 10.826 ms',)]"
      ]
     },
     "execution_count": 24,
     "metadata": {},
     "output_type": "execute_result"
    }
   ],
   "source": [
    "%%sql\n",
    "EXPLAIN ANALYZE\n",
    "SELECT COUNT(*) AS INDEXED FROM p1 WHERE body_indexed LIKE '%abc%';"
   ]
  },
  {
   "cell_type": "markdown",
   "metadata": {},
   "source": [
    "## P2"
   ]
  },
  {
   "cell_type": "code",
   "execution_count": 25,
   "metadata": {},
   "outputs": [
    {
     "name": "stdout",
     "output_type": "stream",
     "text": [
      "Done.\n",
      "Done.\n",
      "Done.\n",
      "Done.\n",
      "1000 rows affected.\n",
      "Done.\n"
     ]
    },
    {
     "data": {
      "text/plain": [
       "[]"
      ]
     },
     "execution_count": 25,
     "metadata": {},
     "output_type": "execute_result"
    }
   ],
   "source": [
    "%%sql\n",
    "\n",
    "SET search_path = public;\n",
    "DROP INDEX IF EXISTS idx_content_ts CASCADE;\n",
    "\n",
    "ALTER TABLE film \n",
    "DROP COLUMN IF EXISTS content_ts;\n",
    "\n",
    "ALTER TABLE film ADD COLUMN content_ts tsvector;\n",
    "\n",
    "UPDATE film\n",
    "SET content_ts = x.content_ts FROM (\n",
    "\tSELECT film_id,\n",
    "\t\t\tsetweight(to_tsvector('english', title), 'A') || \n",
    "\t\t\tsetweight(to_tsvector('english', description), 'B') AS content_ts \n",
    "\tFROM film\n",
    "\t) AS x\n",
    "WHERE x.film_id = film.film_id;\n",
    "\n",
    "\n",
    "CREATE INDEX idx_content_ts ON film USING gin(content_ts);"
   ]
  },
  {
   "cell_type": "code",
   "execution_count": 26,
   "metadata": {},
   "outputs": [
    {
     "name": "stdout",
     "output_type": "stream",
     "text": [
      "11 rows affected.\n"
     ]
    },
    {
     "data": {
      "text/html": [
       "<table>\n",
       "    <tr>\n",
       "        <th>QUERY PLAN</th>\n",
       "    </tr>\n",
       "    <tr>\n",
       "        <td>Limit  (cost=46.14..46.16 rows=10 width=113) (actual time=1.133..1.135 rows=10 loops=1)</td>\n",
       "    </tr>\n",
       "    <tr>\n",
       "        <td>&nbsp;&nbsp;-&gt;  Sort  (cost=46.14..46.16 rows=10 width=113) (actual time=1.131..1.132 rows=10 loops=1)</td>\n",
       "    </tr>\n",
       "    <tr>\n",
       "        <td>&nbsp;&nbsp;&nbsp;&nbsp;&nbsp;&nbsp;&nbsp;&nbsp;Sort Key: (ts_rank_cd(film.content_ts, &#x27;&#x27;&#x27;man&#x27;&#x27; | &#x27;&#x27;woman&#x27;&#x27;&#x27;::tsquery)) DESC</td>\n",
       "    </tr>\n",
       "    <tr>\n",
       "        <td>&nbsp;&nbsp;&nbsp;&nbsp;&nbsp;&nbsp;&nbsp;&nbsp;Sort Method: top-N heapsort  Memory: 27kB</td>\n",
       "    </tr>\n",
       "    <tr>\n",
       "        <td>&nbsp;&nbsp;&nbsp;&nbsp;&nbsp;&nbsp;&nbsp;&nbsp;-&gt;  Bitmap Heap Scan on film  (cost=12.08..45.97 rows=10 width=113) (actual time=0.070..1.069 rows=239 loops=1)</td>\n",
       "    </tr>\n",
       "    <tr>\n",
       "        <td>&nbsp;&nbsp;&nbsp;&nbsp;&nbsp;&nbsp;&nbsp;&nbsp;&nbsp;&nbsp;&nbsp;&nbsp;&nbsp;&nbsp;Recheck Cond: (&#x27;&#x27;&#x27;man&#x27;&#x27; | &#x27;&#x27;woman&#x27;&#x27;&#x27;::tsquery @@ content_ts)</td>\n",
       "    </tr>\n",
       "    <tr>\n",
       "        <td>&nbsp;&nbsp;&nbsp;&nbsp;&nbsp;&nbsp;&nbsp;&nbsp;&nbsp;&nbsp;&nbsp;&nbsp;&nbsp;&nbsp;Heap Blocks: exact=78</td>\n",
       "    </tr>\n",
       "    <tr>\n",
       "        <td>&nbsp;&nbsp;&nbsp;&nbsp;&nbsp;&nbsp;&nbsp;&nbsp;&nbsp;&nbsp;&nbsp;&nbsp;&nbsp;&nbsp;-&gt;  Bitmap Index Scan on idx_content_ts  (cost=0.00..12.07 rows=10 width=0) (actual time=0.039..0.039 rows=239 loops=1)</td>\n",
       "    </tr>\n",
       "    <tr>\n",
       "        <td>&nbsp;&nbsp;&nbsp;&nbsp;&nbsp;&nbsp;&nbsp;&nbsp;&nbsp;&nbsp;&nbsp;&nbsp;&nbsp;&nbsp;&nbsp;&nbsp;&nbsp;&nbsp;&nbsp;&nbsp;Index Cond: (content_ts @@ &#x27;&#x27;&#x27;man&#x27;&#x27; | &#x27;&#x27;woman&#x27;&#x27;&#x27;::tsquery)</td>\n",
       "    </tr>\n",
       "    <tr>\n",
       "        <td>Planning Time: 18.904 ms</td>\n",
       "    </tr>\n",
       "    <tr>\n",
       "        <td>Execution Time: 1.202 ms</td>\n",
       "    </tr>\n",
       "</table>"
      ],
      "text/plain": [
       "[('Limit  (cost=46.14..46.16 rows=10 width=113) (actual time=1.133..1.135 rows=10 loops=1)',),\n",
       " ('  ->  Sort  (cost=46.14..46.16 rows=10 width=113) (actual time=1.131..1.132 rows=10 loops=1)',),\n",
       " (\"        Sort Key: (ts_rank_cd(film.content_ts, '''man'' | ''woman'''::tsquery)) DESC\",),\n",
       " ('        Sort Method: top-N heapsort  Memory: 27kB',),\n",
       " ('        ->  Bitmap Heap Scan on film  (cost=12.08..45.97 rows=10 width=113) (actual time=0.070..1.069 rows=239 loops=1)',),\n",
       " (\"              Recheck Cond: ('''man'' | ''woman'''::tsquery @@ content_ts)\",),\n",
       " ('              Heap Blocks: exact=78',),\n",
       " ('              ->  Bitmap Index Scan on idx_content_ts  (cost=0.00..12.07 rows=10 width=0) (actual time=0.039..0.039 rows=239 loops=1)',),\n",
       " (\"                    Index Cond: (content_ts @@ '''man'' | ''woman'''::tsquery)\",),\n",
       " ('Planning Time: 18.904 ms',),\n",
       " ('Execution Time: 1.202 ms',)]"
      ]
     },
     "execution_count": 26,
     "metadata": {},
     "output_type": "execute_result"
    }
   ],
   "source": [
    "%%sql\n",
    "EXPLAIN ANALYZE\n",
    "SELECT title, description, ts_rank_cd(content_ts, query_ts) AS score \n",
    "FROM film, to_tsquery('english', 'man | woman') query_ts \n",
    "WHERE query_ts @@ content_ts\n",
    "ORDER BY score DESC\n",
    "LIMIT 10;"
   ]
  },
  {
   "cell_type": "code",
   "execution_count": 27,
   "metadata": {},
   "outputs": [
    {
     "name": "stdout",
     "output_type": "stream",
     "text": [
      "9 rows affected.\n"
     ]
    },
    {
     "data": {
      "text/html": [
       "<table>\n",
       "    <tr>\n",
       "        <th>QUERY PLAN</th>\n",
       "    </tr>\n",
       "    <tr>\n",
       "        <td>Limit  (cost=248.24..248.26 rows=10 width=113) (actual time=1.417..1.419 rows=10 loops=1)</td>\n",
       "    </tr>\n",
       "    <tr>\n",
       "        <td>&nbsp;&nbsp;-&gt;  Sort  (cost=248.24..248.83 rows=238 width=113) (actual time=1.416..1.417 rows=10 loops=1)</td>\n",
       "    </tr>\n",
       "    <tr>\n",
       "        <td>&nbsp;&nbsp;&nbsp;&nbsp;&nbsp;&nbsp;&nbsp;&nbsp;Sort Key: (ts_rank_cd(film.fulltext, &#x27;&#x27;&#x27;man&#x27;&#x27; | &#x27;&#x27;woman&#x27;&#x27;&#x27;::tsquery)) DESC</td>\n",
       "    </tr>\n",
       "    <tr>\n",
       "        <td>&nbsp;&nbsp;&nbsp;&nbsp;&nbsp;&nbsp;&nbsp;&nbsp;Sort Method: top-N heapsort  Memory: 27kB</td>\n",
       "    </tr>\n",
       "    <tr>\n",
       "        <td>&nbsp;&nbsp;&nbsp;&nbsp;&nbsp;&nbsp;&nbsp;&nbsp;-&gt;  Seq Scan on film  (cost=0.00..243.09 rows=238 width=113) (actual time=0.028..1.346 rows=239 loops=1)</td>\n",
       "    </tr>\n",
       "    <tr>\n",
       "        <td>&nbsp;&nbsp;&nbsp;&nbsp;&nbsp;&nbsp;&nbsp;&nbsp;&nbsp;&nbsp;&nbsp;&nbsp;&nbsp;&nbsp;Filter: (&#x27;&#x27;&#x27;man&#x27;&#x27; | &#x27;&#x27;woman&#x27;&#x27;&#x27;::tsquery @@ fulltext)</td>\n",
       "    </tr>\n",
       "    <tr>\n",
       "        <td>&nbsp;&nbsp;&nbsp;&nbsp;&nbsp;&nbsp;&nbsp;&nbsp;&nbsp;&nbsp;&nbsp;&nbsp;&nbsp;&nbsp;Rows Removed by Filter: 761</td>\n",
       "    </tr>\n",
       "    <tr>\n",
       "        <td>Planning Time: 0.302 ms</td>\n",
       "    </tr>\n",
       "    <tr>\n",
       "        <td>Execution Time: 1.444 ms</td>\n",
       "    </tr>\n",
       "</table>"
      ],
      "text/plain": [
       "[('Limit  (cost=248.24..248.26 rows=10 width=113) (actual time=1.417..1.419 rows=10 loops=1)',),\n",
       " ('  ->  Sort  (cost=248.24..248.83 rows=238 width=113) (actual time=1.416..1.417 rows=10 loops=1)',),\n",
       " (\"        Sort Key: (ts_rank_cd(film.fulltext, '''man'' | ''woman'''::tsquery)) DESC\",),\n",
       " ('        Sort Method: top-N heapsort  Memory: 27kB',),\n",
       " ('        ->  Seq Scan on film  (cost=0.00..243.09 rows=238 width=113) (actual time=0.028..1.346 rows=239 loops=1)',),\n",
       " (\"              Filter: ('''man'' | ''woman'''::tsquery @@ fulltext)\",),\n",
       " ('              Rows Removed by Filter: 761',),\n",
       " ('Planning Time: 0.302 ms',),\n",
       " ('Execution Time: 1.444 ms',)]"
      ]
     },
     "execution_count": 27,
     "metadata": {},
     "output_type": "execute_result"
    }
   ],
   "source": [
    "%%sql\n",
    "EXPLAIN ANALYZE\n",
    "SELECT title, description, ts_rank_cd(fulltext, query_ts) AS score \n",
    "FROM film, to_tsquery('english', 'man | woman') query_ts \n",
    "WHERE query_ts @@ fulltext\n",
    "ORDER BY score DESC\n",
    "LIMIT 10;"
   ]
  },
  {
   "cell_type": "markdown",
   "metadata": {},
   "source": [
    "## P3"
   ]
  },
  {
   "cell_type": "code",
   "execution_count": 3,
   "metadata": {},
   "outputs": [
    {
     "name": "stdout",
     "output_type": "stream",
     "text": [
      "Done.\n",
      "Done.\n",
      "Done.\n",
      "Done.\n",
      "50000 rows affected.\n",
      "Done.\n",
      "50000 rows affected.\n",
      "Done.\n",
      "50000 rows affected.\n",
      "Done.\n"
     ]
    },
    {
     "data": {
      "text/plain": [
       "[]"
      ]
     },
     "execution_count": 3,
     "metadata": {},
     "output_type": "execute_result"
    }
   ],
   "source": [
    "%%sql\n",
    "\n",
    "SET search_path = public;\n",
    "DROP TABLE IF EXISTS news CASCADE;\n",
    "DROP INDEX IF EXISTS idx_content_ts CASCADE;\n",
    "\n",
    "CREATE TABLE news(\n",
    "    num integer,\n",
    "    id integer,\n",
    "    title text,\n",
    "    publication text,\n",
    "    author text,\n",
    "    date text, \n",
    "    year float,\n",
    "    month float,\n",
    "    url text,\n",
    "    content text\n",
    ");\n",
    "\n",
    "\n",
    "COPY news FROM 'C:\\Francisco\\OneDrive - UNIVERSIDAD DE INGENIERIA Y TECNOLOGIA\\UTEC\\UTEC CS\\2022-I\\Base-de-datos-II\\Asignaciones\\labs\\8-indexes-postgres\\data\\articles1.csv' DELIMITER ',' CSV HEADER;\n",
    "\n",
    "ALTER TABLE news ADD COLUMN content_ts tsvector;\n",
    "\n",
    "UPDATE news\n",
    "SET content_ts = x.content_ts FROM (\n",
    "\tSELECT id,\n",
    "\t\t\tsetweight(to_tsvector('english', title), 'A') || \n",
    "\t\t\tsetweight(to_tsvector('english', content), 'B') AS content_ts \n",
    "\tFROM news\n",
    "\t) AS x\n",
    "WHERE x.id = news.id;\n",
    "\n",
    "ALTER TABLE news ADD COLUMN content_ts_no_index tsvector;\n",
    "\n",
    "UPDATE news\n",
    "SET content_ts_no_index = x.content_ts FROM (\n",
    "\tSELECT id,\n",
    "\t\t\tsetweight(to_tsvector('english', title), 'A') || \n",
    "\t\t\tsetweight(to_tsvector('english', content), 'B') AS content_ts \n",
    "\tFROM news\n",
    "\t) AS x\n",
    "WHERE x.id = news.id;\n",
    "\n",
    "CREATE INDEX idx_content_ts ON news USING gin(content_ts);"
   ]
  },
  {
   "cell_type": "code",
   "execution_count": 21,
   "metadata": {},
   "outputs": [
    {
     "name": "stdout",
     "output_type": "stream",
     "text": [
      "13 rows affected.\n"
     ]
    },
    {
     "data": {
      "text/html": [
       "<table>\n",
       "    <tr>\n",
       "        <th>QUERY PLAN</th>\n",
       "    </tr>\n",
       "    <tr>\n",
       "        <td>Gather Merge  (cost=20912.85..24109.28 rows=27396 width=599) (actual time=595.522..701.099 rows=27596 loops=1)</td>\n",
       "    </tr>\n",
       "    <tr>\n",
       "        <td>&nbsp;&nbsp;Workers Planned: 2</td>\n",
       "    </tr>\n",
       "    <tr>\n",
       "        <td>&nbsp;&nbsp;Workers Launched: 2</td>\n",
       "    </tr>\n",
       "    <tr>\n",
       "        <td>&nbsp;&nbsp;-&gt;  Sort  (cost=19912.83..19947.07 rows=13698 width=599) (actual time=522.907..526.314 rows=9199 loops=3)</td>\n",
       "    </tr>\n",
       "    <tr>\n",
       "        <td>&nbsp;&nbsp;&nbsp;&nbsp;&nbsp;&nbsp;&nbsp;&nbsp;Sort Key: (ts_rank_cd(news.content_ts, &#x27;&#x27;&#x27;trump&#x27;&#x27; | &#x27;&#x27;presid&#x27;&#x27;&#x27;::tsquery)) DESC</td>\n",
       "    </tr>\n",
       "    <tr>\n",
       "        <td>&nbsp;&nbsp;&nbsp;&nbsp;&nbsp;&nbsp;&nbsp;&nbsp;Sort Method: external merge  Disk: 5720kB</td>\n",
       "    </tr>\n",
       "    <tr>\n",
       "        <td>&nbsp;&nbsp;&nbsp;&nbsp;&nbsp;&nbsp;&nbsp;&nbsp;Worker 0:  Sort Method: external merge  Disk: 5024kB</td>\n",
       "    </tr>\n",
       "    <tr>\n",
       "        <td>&nbsp;&nbsp;&nbsp;&nbsp;&nbsp;&nbsp;&nbsp;&nbsp;Worker 1:  Sort Method: external merge  Disk: 4600kB</td>\n",
       "    </tr>\n",
       "    <tr>\n",
       "        <td>&nbsp;&nbsp;&nbsp;&nbsp;&nbsp;&nbsp;&nbsp;&nbsp;-&gt;  Parallel Seq Scan on news  (cost=0.00..15317.66 rows=13698 width=599) (actual time=1.827..497.390 rows=9199 loops=3)</td>\n",
       "    </tr>\n",
       "    <tr>\n",
       "        <td>&nbsp;&nbsp;&nbsp;&nbsp;&nbsp;&nbsp;&nbsp;&nbsp;&nbsp;&nbsp;&nbsp;&nbsp;&nbsp;&nbsp;Filter: (&#x27;&#x27;&#x27;trump&#x27;&#x27; | &#x27;&#x27;presid&#x27;&#x27;&#x27;::tsquery @@ content_ts)</td>\n",
       "    </tr>\n",
       "    <tr>\n",
       "        <td>&nbsp;&nbsp;&nbsp;&nbsp;&nbsp;&nbsp;&nbsp;&nbsp;&nbsp;&nbsp;&nbsp;&nbsp;&nbsp;&nbsp;Rows Removed by Filter: 7468</td>\n",
       "    </tr>\n",
       "    <tr>\n",
       "        <td>Planning Time: 0.209 ms</td>\n",
       "    </tr>\n",
       "    <tr>\n",
       "        <td>Execution Time: 793.653 ms</td>\n",
       "    </tr>\n",
       "</table>"
      ],
      "text/plain": [
       "[('Gather Merge  (cost=20912.85..24109.28 rows=27396 width=599) (actual time=595.522..701.099 rows=27596 loops=1)',),\n",
       " ('  Workers Planned: 2',),\n",
       " ('  Workers Launched: 2',),\n",
       " ('  ->  Sort  (cost=19912.83..19947.07 rows=13698 width=599) (actual time=522.907..526.314 rows=9199 loops=3)',),\n",
       " (\"        Sort Key: (ts_rank_cd(news.content_ts, '''trump'' | ''presid'''::tsquery)) DESC\",),\n",
       " ('        Sort Method: external merge  Disk: 5720kB',),\n",
       " ('        Worker 0:  Sort Method: external merge  Disk: 5024kB',),\n",
       " ('        Worker 1:  Sort Method: external merge  Disk: 4600kB',),\n",
       " ('        ->  Parallel Seq Scan on news  (cost=0.00..15317.66 rows=13698 width=599) (actual time=1.827..497.390 rows=9199 loops=3)',),\n",
       " (\"              Filter: ('''trump'' | ''presid'''::tsquery @@ content_ts)\",),\n",
       " ('              Rows Removed by Filter: 7468',),\n",
       " ('Planning Time: 0.209 ms',),\n",
       " ('Execution Time: 793.653 ms',)]"
      ]
     },
     "execution_count": 21,
     "metadata": {},
     "output_type": "execute_result"
    }
   ],
   "source": [
    "%%sql\n",
    "EXPLAIN ANALYZE\n",
    "SELECT title, content, ts_rank_cd(content_ts, query_ts) AS score \n",
    "FROM news, to_tsquery('english', 'trump | president') query_ts \n",
    "WHERE query_ts @@ content_ts\n",
    "ORDER BY score DESC;"
   ]
  },
  {
   "cell_type": "code",
   "execution_count": 20,
   "metadata": {},
   "outputs": [
    {
     "name": "stdout",
     "output_type": "stream",
     "text": [
      "13 rows affected.\n"
     ]
    },
    {
     "data": {
      "text/html": [
       "<table>\n",
       "    <tr>\n",
       "        <th>QUERY PLAN</th>\n",
       "    </tr>\n",
       "    <tr>\n",
       "        <td>Gather Merge  (cost=20912.85..24109.28 rows=27396 width=599) (actual time=490.696..613.661 rows=27596 loops=1)</td>\n",
       "    </tr>\n",
       "    <tr>\n",
       "        <td>&nbsp;&nbsp;Workers Planned: 2</td>\n",
       "    </tr>\n",
       "    <tr>\n",
       "        <td>&nbsp;&nbsp;Workers Launched: 2</td>\n",
       "    </tr>\n",
       "    <tr>\n",
       "        <td>&nbsp;&nbsp;-&gt;  Sort  (cost=19912.83..19947.07 rows=13698 width=599) (actual time=422.897..425.947 rows=9199 loops=3)</td>\n",
       "    </tr>\n",
       "    <tr>\n",
       "        <td>&nbsp;&nbsp;&nbsp;&nbsp;&nbsp;&nbsp;&nbsp;&nbsp;Sort Key: (ts_rank_cd(news.content_ts_no_index, &#x27;&#x27;&#x27;trump&#x27;&#x27; | &#x27;&#x27;presid&#x27;&#x27;&#x27;::tsquery)) DESC</td>\n",
       "    </tr>\n",
       "    <tr>\n",
       "        <td>&nbsp;&nbsp;&nbsp;&nbsp;&nbsp;&nbsp;&nbsp;&nbsp;Sort Method: external merge  Disk: 5648kB</td>\n",
       "    </tr>\n",
       "    <tr>\n",
       "        <td>&nbsp;&nbsp;&nbsp;&nbsp;&nbsp;&nbsp;&nbsp;&nbsp;Worker 0:  Sort Method: external merge  Disk: 4904kB</td>\n",
       "    </tr>\n",
       "    <tr>\n",
       "        <td>&nbsp;&nbsp;&nbsp;&nbsp;&nbsp;&nbsp;&nbsp;&nbsp;Worker 1:  Sort Method: external merge  Disk: 4792kB</td>\n",
       "    </tr>\n",
       "    <tr>\n",
       "        <td>&nbsp;&nbsp;&nbsp;&nbsp;&nbsp;&nbsp;&nbsp;&nbsp;-&gt;  Parallel Seq Scan on news  (cost=0.00..15317.66 rows=13698 width=599) (actual time=1.457..400.010 rows=9199 loops=3)</td>\n",
       "    </tr>\n",
       "    <tr>\n",
       "        <td>&nbsp;&nbsp;&nbsp;&nbsp;&nbsp;&nbsp;&nbsp;&nbsp;&nbsp;&nbsp;&nbsp;&nbsp;&nbsp;&nbsp;Filter: (&#x27;&#x27;&#x27;trump&#x27;&#x27; | &#x27;&#x27;presid&#x27;&#x27;&#x27;::tsquery @@ content_ts_no_index)</td>\n",
       "    </tr>\n",
       "    <tr>\n",
       "        <td>&nbsp;&nbsp;&nbsp;&nbsp;&nbsp;&nbsp;&nbsp;&nbsp;&nbsp;&nbsp;&nbsp;&nbsp;&nbsp;&nbsp;Rows Removed by Filter: 7468</td>\n",
       "    </tr>\n",
       "    <tr>\n",
       "        <td>Planning Time: 0.261 ms</td>\n",
       "    </tr>\n",
       "    <tr>\n",
       "        <td>Execution Time: 934.272 ms</td>\n",
       "    </tr>\n",
       "</table>"
      ],
      "text/plain": [
       "[('Gather Merge  (cost=20912.85..24109.28 rows=27396 width=599) (actual time=490.696..613.661 rows=27596 loops=1)',),\n",
       " ('  Workers Planned: 2',),\n",
       " ('  Workers Launched: 2',),\n",
       " ('  ->  Sort  (cost=19912.83..19947.07 rows=13698 width=599) (actual time=422.897..425.947 rows=9199 loops=3)',),\n",
       " (\"        Sort Key: (ts_rank_cd(news.content_ts_no_index, '''trump'' | ''presid'''::tsquery)) DESC\",),\n",
       " ('        Sort Method: external merge  Disk: 5648kB',),\n",
       " ('        Worker 0:  Sort Method: external merge  Disk: 4904kB',),\n",
       " ('        Worker 1:  Sort Method: external merge  Disk: 4792kB',),\n",
       " ('        ->  Parallel Seq Scan on news  (cost=0.00..15317.66 rows=13698 width=599) (actual time=1.457..400.010 rows=9199 loops=3)',),\n",
       " (\"              Filter: ('''trump'' | ''presid'''::tsquery @@ content_ts_no_index)\",),\n",
       " ('              Rows Removed by Filter: 7468',),\n",
       " ('Planning Time: 0.261 ms',),\n",
       " ('Execution Time: 934.272 ms',)]"
      ]
     },
     "execution_count": 20,
     "metadata": {},
     "output_type": "execute_result"
    }
   ],
   "source": [
    "%%sql\n",
    "EXPLAIN ANALYZE\n",
    "SELECT title, content, ts_rank_cd(content_ts_no_index, query_ts) AS score \n",
    "FROM news, to_tsquery('english', 'trump | president') query_ts \n",
    "WHERE query_ts @@ content_ts_no_index\n",
    "ORDER BY score DESC;"
   ]
  }
 ],
 "metadata": {
  "interpreter": {
   "hash": "af8259ad5c1c9c7a69bd6ea085234cf8fd3a6a37a71ca551828b314c4d89b0ad"
  },
  "kernelspec": {
   "display_name": "Python 3.9.12 ('base')",
   "language": "python",
   "name": "python3"
  },
  "language_info": {
   "codemirror_mode": {
    "name": "ipython",
    "version": 3
   },
   "file_extension": ".py",
   "mimetype": "text/x-python",
   "name": "python",
   "nbconvert_exporter": "python",
   "pygments_lexer": "ipython3",
   "version": "3.10.3"
  },
  "orig_nbformat": 4
 },
 "nbformat": 4,
 "nbformat_minor": 2
}
